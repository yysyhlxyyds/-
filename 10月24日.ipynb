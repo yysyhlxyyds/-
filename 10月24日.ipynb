{
 "cells": [
  {
   "cell_type": "code",
   "execution_count": null,
   "id": "c6441cc5-5c89-471c-a677-5714ef17aa39",
   "metadata": {},
   "outputs": [],
   "source": [
    "init_bar()\n",
    "init_ants()\n",
    "\n",
    "while not is_bar_empty():\n",
    "    show_bar()\n",
    "    wait()\n",
    "    update_ants()\n",
    "    update_bar()\n",
    "    "
   ]
  },
  {
   "cell_type": "code",
   "execution_count": 28,
   "id": "2b6b5763-0edc-4430-8ead-fc8cc1a60217",
   "metadata": {
    "tags": []
   },
   "outputs": [
    {
     "name": "stdout",
     "output_type": "stream",
     "text": [
      "['*', '-', '-', '-', '-', '-', '-', '-', '-', '-', '-', '-', '-', '-', '-', '-', '-', '-', '-', '-', '-', '-', '-', '-', '-', '-', '-', '-', '-', '-', '-', '-', '-', '-', '-', '-', '-', '-', '-', '-', '-', '-', '-', '-', '-', '-', '-', '-', '-', '-', '-', '-', '-', '-', '-', '-', '-', '-', '-', '*']\n",
      "[{'position': 0, 'direction': 1}, {'position': 59, 'direction': -1}]\n",
      "*----------------------------------------------------------*\r"
     ]
    }
   ],
   "source": [
    "from time import sleep\n",
    "\n",
    "bar_length = 60\n",
    "\n",
    "def init_bar(length=80):\n",
    "    bar = list('-' * length)\n",
    "    return bar\n",
    "\n",
    "def init_ants(bar_length=80):\n",
    "    ants = list()\n",
    "    ants.append({'position':0, 'direction':1})\n",
    "    ants.append({'position':bar_length - 1, 'direction':-1})\n",
    "    return ants\n",
    "\n",
    "def clear_bar(bar):\n",
    "    for i in range(len(bar)):\n",
    "        bar[i] = '-'\n",
    "        \n",
    "def update_bar(bar, ants):\n",
    "    clear_bar(bar)\n",
    "    for ant in ants:\n",
    "        if 0 <= ant['position'] < len(bar):\n",
    "            bar[ant['position']] = '*'\n",
    "\n",
    "def is_bar_empty(bar):\n",
    "    for item in bar:\n",
    "        if not item == '-':\n",
    "            return False\n",
    "    return True\n",
    "\n",
    "def show_bar(bar):\n",
    "    print(''.join(bar), end='\\r', flush=True)\n",
    "\n",
    "def update_ants(ants):\n",
    "    for ant in ants:\n",
    "        ant['position'] += ant['direction']\n",
    "        \n",
    "bar = init_bar(bar_length)\n",
    "ants = init_ants(bar_length)\n",
    "update_bar(bar, ants)\n",
    "while not is_bar_empty(bar):\n",
    "    show_bar(bar)\n",
    "    sleep(0.2)\n",
    "    update_ants(ants)\n",
    "    update_bar(bar, ants)\n"
   ]
  },
  {
   "cell_type": "code",
   "execution_count": 30,
   "id": "c3a28acc-3025-46a5-8626-e77d3bd92179",
   "metadata": {
    "tags": []
   },
   "outputs": [
    {
     "name": "stdout",
     "output_type": "stream",
     "text": [
      "Hello, world! I am Zhang San.\n"
     ]
    }
   ],
   "source": [
    "class Person:\n",
    "    def set_name(self, name):\n",
    "        self.name = name\n",
    "    \n",
    "    def get_name(self):\n",
    "        return self.name\n",
    "\n",
    "    def greet(self):\n",
    "        print(f'Hello, world! I am {self.name}.')\n",
    "\n",
    "zs = Person()\n",
    "zs.set_name('Zhang San')\n",
    "zs.greet()"
   ]
  },
  {
   "cell_type": "code",
   "execution_count": 32,
   "id": "aa126479-c612-4e8a-817e-9fcc6c352fe4",
   "metadata": {
    "tags": []
   },
   "outputs": [
    {
     "name": "stdout",
     "output_type": "stream",
     "text": [
      "Hello, world! I am Li Si.\n"
     ]
    }
   ],
   "source": [
    "ls = Person()\n",
    "ls.set_name('Li Si')\n",
    "ls.greet()"
   ]
  },
  {
   "cell_type": "code",
   "execution_count": 34,
   "id": "5a2dc7be-3ace-4eba-8206-abb1293d2d43",
   "metadata": {
    "tags": []
   },
   "outputs": [
    {
     "name": "stdout",
     "output_type": "stream",
     "text": [
      "Hello, world! I am Li Si.\n"
     ]
    }
   ],
   "source": [
    "Person.greet(ls)"
   ]
  },
  {
   "cell_type": "code",
   "execution_count": 44,
   "id": "21449627-6b01-4f68-956e-ac43cce4f4b6",
   "metadata": {
    "tags": []
   },
   "outputs": [
    {
     "name": "stdout",
     "output_type": "stream",
     "text": [
      "Hello, world! I am Li Si.\n"
     ]
    }
   ],
   "source": [
    "class Person:\n",
    "    def __init__(self, name=None):\n",
    "        self.name = name\n",
    "    \n",
    "    def set_name(self, name):\n",
    "        self.name = name\n",
    "    \n",
    "    def get_name(self):\n",
    "        return self.name\n",
    "\n",
    "    def greet(self):\n",
    "        print(f'Hello, world! I am {self.name}.')\n",
    "        \n",
    "        \n",
    "ls = Person('Li Si')\n",
    "ls.greet()\n",
    "\n",
    "unknown = Person()\n"
   ]
  },
  {
   "cell_type": "code",
   "execution_count": 46,
   "id": "60c6c6cd-d8e7-460a-ba78-1a73bedcc152",
   "metadata": {
    "tags": []
   },
   "outputs": [
    {
     "name": "stdout",
     "output_type": "stream",
     "text": [
      "Hello, world! I am None.\n"
     ]
    }
   ],
   "source": [
    "unknown.greet()"
   ]
  },
  {
   "cell_type": "code",
   "execution_count": 48,
   "id": "424c86a5-5d78-4b21-9f78-29c10afe63a5",
   "metadata": {
    "tags": []
   },
   "outputs": [
    {
     "name": "stdout",
     "output_type": "stream",
     "text": [
      "Hello, world! I am 3.14159.\n"
     ]
    }
   ],
   "source": [
    "ls.name = 3.14159\n",
    "ls.greet()"
   ]
  },
  {
   "cell_type": "code",
   "execution_count": 76,
   "id": "c7a0dce6-0a21-48f1-bb0a-cb81bf0f0cd1",
   "metadata": {
    "tags": []
   },
   "outputs": [],
   "source": [
    "class Person:\n",
    "    '''\n",
    "    This class is used to repsent a person.\n",
    "    '''\n",
    "    def __init__(self, name=None):\n",
    "        self.__name = name\n",
    "    \n",
    "    def set_name(self, name:str):\n",
    "        '''\n",
    "        Set the name of the person. name should be a string.\n",
    "        '''\n",
    "        if isinstance(name, str):\n",
    "            self.__name = name\n",
    "        raise TypeError('name must be a string.')\n",
    "    \n",
    "    def get_name(self)->str:\n",
    "        return self.__name\n",
    "    \n",
    "    def __do_greet(self):\n",
    "        print(f'Hello, world! I am {self.__name}.')\n",
    "\n",
    "    def greet(self):\n",
    "        self.__do_greet()\n",
    "        self.__do_greet()"
   ]
  },
  {
   "cell_type": "code",
   "execution_count": 74,
   "id": "f061dc8a-40ff-4179-a2a1-cc0cb3b217e9",
   "metadata": {
    "tags": []
   },
   "outputs": [
    {
     "name": "stdout",
     "output_type": "stream",
     "text": [
      "Hello, world! I am Li Si.\n",
      "Hello, world! I am Li Si.\n"
     ]
    }
   ],
   "source": [
    "ls = Person('Li Si')\n",
    "ls.greet()"
   ]
  },
  {
   "cell_type": "code",
   "execution_count": 58,
   "id": "f84cc0f6-efff-42cb-80b8-2eb1912b09f5",
   "metadata": {
    "tags": []
   },
   "outputs": [
    {
     "data": {
      "text/plain": [
       "{'_Person__name': None, '__name': 3.14159}"
      ]
     },
     "execution_count": 58,
     "metadata": {},
     "output_type": "execute_result"
    }
   ],
   "source": [
    "ls.__dict__"
   ]
  },
  {
   "cell_type": "code",
   "execution_count": 64,
   "id": "da9a137d-b20f-40aa-ab8a-4730ef5b06c7",
   "metadata": {
    "tags": []
   },
   "outputs": [
    {
     "data": {
      "text/plain": [
       "True"
      ]
     },
     "execution_count": 64,
     "metadata": {},
     "output_type": "execute_result"
    }
   ],
   "source": [
    "isinstance(ls, Person)"
   ]
  },
  {
   "cell_type": "code",
   "execution_count": 66,
   "id": "da055370-d4fc-46d9-bd79-13570a56f517",
   "metadata": {
    "tags": []
   },
   "outputs": [
    {
     "ename": "TypeError",
     "evalue": "isinstance() arg 2 must be a type, a tuple of types, or a union",
     "output_type": "error",
     "traceback": [
      "\u001b[1;31m---------------------------------------------------------------------------\u001b[0m",
      "\u001b[1;31mTypeError\u001b[0m                                 Traceback (most recent call last)",
      "Cell \u001b[1;32mIn[66], line 1\u001b[0m\n\u001b[1;32m----> 1\u001b[0m \u001b[38;5;28misinstance\u001b[39m(Person, ls)\n",
      "\u001b[1;31mTypeError\u001b[0m: isinstance() arg 2 must be a type, a tuple of types, or a union"
     ]
    }
   ],
   "source": [
    "isinstance(Person, ls)"
   ]
  },
  {
   "cell_type": "code",
   "execution_count": 80,
   "id": "68147182-eaa2-43e7-adb6-474341b4f9d6",
   "metadata": {
    "tags": []
   },
   "outputs": [
    {
     "name": "stdout",
     "output_type": "stream",
     "text": [
      "1\n",
      "2\n"
     ]
    }
   ],
   "source": [
    "print('hello'.count('e'))\n",
    "print([1, 2, 'e', 'd', 'e'].count('e'))"
   ]
  },
  {
   "cell_type": "code",
   "execution_count": 82,
   "id": "63f5f5f2-2b16-4dbe-a795-fa19ce11d8d1",
   "metadata": {
    "tags": []
   },
   "outputs": [
    {
     "name": "stdout",
     "output_type": "stream",
     "text": [
      "1\n",
      "2\n"
     ]
    }
   ],
   "source": [
    "my_list = ['hello', [1, 2, 'e', 'd', 'e']]\n",
    "for item in my_list:\n",
    "    print(item.count('e'))"
   ]
  },
  {
   "cell_type": "code",
   "execution_count": 84,
   "id": "f88fc46a-9e08-44ad-a709-cc566dfd4dde",
   "metadata": {
    "tags": []
   },
   "outputs": [
    {
     "name": "stdout",
     "output_type": "stream",
     "text": [
      "3\n",
      "hello world\n"
     ]
    }
   ],
   "source": [
    "print(1+2)\n",
    "print('hello' + ' world')"
   ]
  },
  {
   "cell_type": "code",
   "execution_count": 86,
   "id": "c19e153e-5263-498d-b604-8160d5d6f2fc",
   "metadata": {
    "tags": []
   },
   "outputs": [],
   "source": [
    "def add(a, b):\n",
    "    return a + b\n"
   ]
  },
  {
   "cell_type": "code",
   "execution_count": 88,
   "id": "b7edc7b4-e899-488e-995b-3fd7c035a9e1",
   "metadata": {
    "tags": []
   },
   "outputs": [
    {
     "name": "stdout",
     "output_type": "stream",
     "text": [
      "meow...meow...\n",
      "woof, woof...\n"
     ]
    }
   ],
   "source": [
    "class Cat:\n",
    "    def meow(self):\n",
    "        print('meow...meow...')\n",
    "\n",
    "class Dog:\n",
    "    def woof(self):\n",
    "        print('woof, woof...')\n",
    "        \n",
    "cat = Cat()\n",
    "cat.meow()\n",
    "dog = Dog()\n",
    "dog.woof()"
   ]
  },
  {
   "cell_type": "code",
   "execution_count": 92,
   "id": "24dddf93-8581-48ed-8bd6-16738a76f03e",
   "metadata": {
    "tags": []
   },
   "outputs": [
    {
     "name": "stdout",
     "output_type": "stream",
     "text": [
      "meow...meow...\n",
      "woof, woof...\n",
      "meow...meow...\n"
     ]
    }
   ],
   "source": [
    "pets = list()\n",
    "pets.append(Cat())\n",
    "pets.append(Dog())\n",
    "pets.append(Cat())\n",
    "\n",
    "for pet in pets:\n",
    "    if isinstance(pet, Cat):\n",
    "        pet.meow()\n",
    "    elif isinstance(pet, Dog):\n",
    "        pet.woof()"
   ]
  },
  {
   "cell_type": "code",
   "execution_count": 94,
   "id": "52e50201-b583-45e6-be97-77cf272d50dc",
   "metadata": {
    "tags": []
   },
   "outputs": [
    {
     "name": "stdout",
     "output_type": "stream",
     "text": [
      "meow...meow...\n",
      "woof, woof...\n",
      "meow...meow...\n"
     ]
    }
   ],
   "source": [
    "class Cat:\n",
    "    def talk(self):\n",
    "        print('meow...meow...')\n",
    "\n",
    "class Dog:\n",
    "    def talk(self):\n",
    "        print('woof, woof...')\n",
    "\n",
    "pets = list()\n",
    "pets.append(Cat())\n",
    "pets.append(Dog())\n",
    "pets.append(Cat())\n",
    "\n",
    "for pet in pets:\n",
    "    pet.talk()"
   ]
  },
  {
   "cell_type": "code",
   "execution_count": 98,
   "id": "171c5bec-3cd2-4e95-b4b5-851feaaaac4f",
   "metadata": {
    "tags": []
   },
   "outputs": [
    {
     "name": "stdout",
     "output_type": "stream",
     "text": [
      "meow...meow...\n",
      "woof, woof...\n",
      "meow...meow...\n",
      "sorry, i do not talk.\n"
     ]
    }
   ],
   "source": [
    "class Cat:\n",
    "    def talk(self):\n",
    "        print('meow...meow...')\n",
    "\n",
    "class Dog:\n",
    "    def talk(self):\n",
    "        print('woof, woof...')\n",
    "        \n",
    "class Turtle:\n",
    "    pass\n",
    "\n",
    "pets = list()\n",
    "pets.append(Cat())\n",
    "pets.append(Dog())\n",
    "pets.append(Cat())\n",
    "pets.append(Turtle())\n",
    "\n",
    "for pet in pets:\n",
    "    if (callable(getattr(pet, 'talk', None))):\n",
    "        pet.talk()\n",
    "    else:\n",
    "        print('sorry, i do not talk.')"
   ]
  },
  {
   "cell_type": "code",
   "execution_count": 106,
   "id": "a0841143-329e-46b8-be70-887b93d49f15",
   "metadata": {
    "tags": []
   },
   "outputs": [
    {
     "name": "stdout",
     "output_type": "stream",
     "text": [
      "Hello, world! I am Zhang San.\n",
      "Hello, world! I am Zhang San.\n",
      "I scored 99.\n"
     ]
    }
   ],
   "source": [
    "class Person:\n",
    "    '''\n",
    "    This class is used to repsent a person.\n",
    "    '''\n",
    "    def __init__(self, name=None):\n",
    "        self.__name = name\n",
    "    \n",
    "    def set_name(self, name:str):\n",
    "        '''\n",
    "        Set the name of the person. name should be a string.\n",
    "        '''\n",
    "        if isinstance(name, str):\n",
    "            self.__name = name\n",
    "        else:\n",
    "            raise TypeError('name must be a string.')\n",
    "    \n",
    "    def get_name(self)->str:\n",
    "        return self.__name\n",
    "    \n",
    "    def __do_greet(self):\n",
    "        print(f'Hello, world! I am {self.__name}.')\n",
    "\n",
    "    def greet(self):\n",
    "        self.__do_greet()\n",
    "        self.__do_greet()\n",
    "\n",
    "class Student(Person):\n",
    "    def set_score(self, score):\n",
    "        self.score = score\n",
    "        \n",
    "    def get_score(self):\n",
    "        return self.score\n",
    "    \n",
    "    def show_score(self):\n",
    "        print(f'I scored {self.score}.')\n",
    "\n",
    "st = Student()\n",
    "st.set_name('Zhang San')\n",
    "st.set_score(99)\n",
    "st.greet()\n",
    "st.show_score()"
   ]
  },
  {
   "cell_type": "code",
   "execution_count": 108,
   "id": "bb7beb0b-dd30-4aa1-8350-422ae050b40b",
   "metadata": {
    "tags": []
   },
   "outputs": [
    {
     "name": "stdout",
     "output_type": "stream",
     "text": [
      "Hello, world! I am Zhang San.\n",
      "Hello, world! I am Zhang San.\n",
      "I scored 99.\n"
     ]
    }
   ],
   "source": [
    "st = Student('Zhang San')\n",
    "st.set_score(99)\n",
    "st.greet()\n",
    "st.show_score()"
   ]
  },
  {
   "cell_type": "code",
   "execution_count": 110,
   "id": "d39d821b-0da1-4a16-998b-4df06792e7b0",
   "metadata": {
    "tags": []
   },
   "outputs": [
    {
     "data": {
      "text/plain": [
       "[3, 4]"
      ]
     },
     "execution_count": 110,
     "metadata": {},
     "output_type": "execute_result"
    }
   ],
   "source": [
    "class Filter:\n",
    "    def __init__(self):\n",
    "        self.blocked = [1, 2]\n",
    "        \n",
    "    def filter(self, sequence):\n",
    "        return [x for x in sequence if x not in self.blocked]\n",
    "        \n",
    "f = Filter()\n",
    "f.filter([1, 2, 3, 4])"
   ]
  },
  {
   "cell_type": "code",
   "execution_count": 116,
   "id": "d6b8d92f-6983-4072-bbf2-f07953614fd5",
   "metadata": {
    "tags": []
   },
   "outputs": [
    {
     "data": {
      "text/plain": [
       "['hello', 'world']"
      ]
     },
     "execution_count": 116,
     "metadata": {},
     "output_type": "execute_result"
    }
   ],
   "source": [
    "class SpamFilter(Filter):\n",
    "    def __init__(self):\n",
    "        self.blocked = ['SPAM'] \n",
    "    \n",
    "s = SpamFilter()\n",
    "s.filter(['SPAM', 'SPAM', 'hello', 'world'])"
   ]
  },
  {
   "cell_type": "code",
   "execution_count": 122,
   "id": "88c6f372-67e0-4419-b798-b3e282bd2f2a",
   "metadata": {
    "tags": []
   },
   "outputs": [
    {
     "data": {
      "text/plain": [
       "[3, 4]"
      ]
     },
     "execution_count": 122,
     "metadata": {},
     "output_type": "execute_result"
    }
   ],
   "source": [
    "class Filter:\n",
    "    def __init__(self):\n",
    "        self.blocked = []\n",
    "        \n",
    "    def add_blocked(self, item):\n",
    "        self.blocked.append(item)\n",
    "            \n",
    "    def filter(self, sequence):\n",
    "        return [x for x in sequence if x not in self.blocked]\n",
    "    \n",
    "s = Filter()\n",
    "s.add_blocked('SPAM')\n",
    "s.filter(['SPAM', 'SPAM', 'hello', 'world'])\n",
    "\n",
    "f = Filter()\n",
    "f.add_blocked(1)\n",
    "f.add_blocked(2)\n",
    "f.filter([1, 2, 3, 4])"
   ]
  },
  {
   "cell_type": "code",
   "execution_count": 124,
   "id": "8fe18c25-0bda-482b-a0a5-3d98390e4f15",
   "metadata": {
    "tags": []
   },
   "outputs": [
    {
     "data": {
      "text/plain": [
       "True"
      ]
     },
     "execution_count": 124,
     "metadata": {},
     "output_type": "execute_result"
    }
   ],
   "source": [
    "issubclass(Student, Person)"
   ]
  },
  {
   "cell_type": "code",
   "execution_count": 126,
   "id": "04155512-205c-417b-8807-311c393a7177",
   "metadata": {
    "tags": []
   },
   "outputs": [
    {
     "data": {
      "text/plain": [
       "False"
      ]
     },
     "execution_count": 126,
     "metadata": {},
     "output_type": "execute_result"
    }
   ],
   "source": [
    "issubclass(Person, Student)"
   ]
  },
  {
   "cell_type": "code",
   "execution_count": 128,
   "id": "e0cd3a3b-042f-4ddb-9adf-2120880e020f",
   "metadata": {
    "tags": []
   },
   "outputs": [
    {
     "name": "stdout",
     "output_type": "stream",
     "text": [
      "turning a screw...\n",
      "cutting...\n"
     ]
    }
   ],
   "source": [
    "class ScrewDriver:\n",
    "    def __init__(self, size):\n",
    "        self.size = size\n",
    "        \n",
    "    def turn_screw(self):\n",
    "        print(f'turning a screw with a screwdriver of size {self.size}...')\n",
    "\n",
    "class Knife:\n",
    "    def cut(self):\n",
    "        print('cutting...')\n",
    "\n",
    "class SwissKnife(ScrewDriver, Knife):\n",
    "    pass\n",
    "\n",
    "sk = SwissKnife()\n",
    "sk.turn_screw()\n",
    "sk.cut()"
   ]
  },
  {
   "cell_type": "code",
   "execution_count": 140,
   "id": "9679df9a-ab34-4bf2-a810-92a5a7c9d263",
   "metadata": {
    "tags": []
   },
   "outputs": [
    {
     "ename": "TypeError",
     "evalue": "You can only add a Tool to Swiss knife.",
     "output_type": "error",
     "traceback": [
      "\u001b[1;31m---------------------------------------------------------------------------\u001b[0m",
      "\u001b[1;31mTypeError\u001b[0m                                 Traceback (most recent call last)",
      "Cell \u001b[1;32mIn[140], line 36\u001b[0m\n\u001b[0;32m     34\u001b[0m sk\u001b[38;5;241m.\u001b[39madd_tool(\u001b[38;5;124m\"\u001b[39m\u001b[38;5;124mSmall screwdriver\u001b[39m\u001b[38;5;124m\"\u001b[39m, ScrewDriver(\u001b[38;5;241m5\u001b[39m))\n\u001b[0;32m     35\u001b[0m sk\u001b[38;5;241m.\u001b[39madd_tool(\u001b[38;5;124m\"\u001b[39m\u001b[38;5;124mKnife\u001b[39m\u001b[38;5;124m\"\u001b[39m, Knife())\n\u001b[1;32m---> 36\u001b[0m sk\u001b[38;5;241m.\u001b[39madd_tool(\u001b[38;5;124m\"\u001b[39m\u001b[38;5;124mDog\u001b[39m\u001b[38;5;124m\"\u001b[39m, Dog())\n\u001b[0;32m     37\u001b[0m sk\u001b[38;5;241m.\u001b[39muse_tool(\u001b[38;5;124m'\u001b[39m\u001b[38;5;124mKnife\u001b[39m\u001b[38;5;124m'\u001b[39m)\n\u001b[0;32m     38\u001b[0m sk\u001b[38;5;241m.\u001b[39muse_tool(\u001b[38;5;124m'\u001b[39m\u001b[38;5;124mBig screwdriver\u001b[39m\u001b[38;5;124m'\u001b[39m)\n",
      "Cell \u001b[1;32mIn[140], line 27\u001b[0m, in \u001b[0;36mSwissKnife.add_tool\u001b[1;34m(self, name, tool)\u001b[0m\n\u001b[0;32m     25\u001b[0m     \u001b[38;5;28mself\u001b[39m\u001b[38;5;241m.\u001b[39mtools[name] \u001b[38;5;241m=\u001b[39m tool\n\u001b[0;32m     26\u001b[0m \u001b[38;5;28;01melse\u001b[39;00m:\n\u001b[1;32m---> 27\u001b[0m     \u001b[38;5;28;01mraise\u001b[39;00m \u001b[38;5;167;01mTypeError\u001b[39;00m(\u001b[38;5;124m'\u001b[39m\u001b[38;5;124mYou can only add a Tool to Swiss knife.\u001b[39m\u001b[38;5;124m'\u001b[39m)\n",
      "\u001b[1;31mTypeError\u001b[0m: You can only add a Tool to Swiss knife."
     ]
    }
   ],
   "source": [
    "from abc import ABC, abstractmethod\n",
    "\n",
    "class Tool(ABC):\n",
    "    @abstractmethod\n",
    "    def work(self):\n",
    "        pass\n",
    "    \n",
    "class ScrewDriver(Tool):\n",
    "    def __init__(self, size):\n",
    "        self.size = size\n",
    "        \n",
    "    def work(self):\n",
    "        print(f'turning a screw with a screwdriver of size {self.size}...')\n",
    "\n",
    "class Knife(Tool):\n",
    "    def work(self):\n",
    "        print('cutting...')\n",
    "\n",
    "class SwissKnife(ScrewDriver, Knife):\n",
    "    def __init__(self):\n",
    "        self.tools = dict()\n",
    "        \n",
    "    def add_tool(self, name, tool):\n",
    "        if isinstance(tool, Tool):\n",
    "            self.tools[name] = tool\n",
    "        else:\n",
    "            raise TypeError('You can only add a Tool to Swiss knife.')\n",
    "\n",
    "    def use_tool(self, name):\n",
    "        self.tools[name].work()\n",
    "\n",
    "sk = SwissKnife()\n",
    "sk.add_tool(\"Big screwdriver\", ScrewDriver(10))\n",
    "sk.add_tool(\"Small screwdriver\", ScrewDriver(5))\n",
    "sk.add_tool(\"Knife\", Knife())\n",
    "sk.add_tool(\"Dog\", Dog())\n",
    "sk.use_tool('Knife')\n",
    "sk.use_tool('Big screwdriver')\n"
   ]
  },
  {
   "cell_type": "code",
   "execution_count": 136,
   "id": "ff7d340a-c225-447e-a5e4-ed2505e33f94",
   "metadata": {
    "tags": []
   },
   "outputs": [
    {
     "ename": "AttributeError",
     "evalue": "'Dog' object has no attribute 'work'",
     "output_type": "error",
     "traceback": [
      "\u001b[1;31m---------------------------------------------------------------------------\u001b[0m",
      "\u001b[1;31mAttributeError\u001b[0m                            Traceback (most recent call last)",
      "Cell \u001b[1;32mIn[136], line 1\u001b[0m\n\u001b[1;32m----> 1\u001b[0m sk\u001b[38;5;241m.\u001b[39muse_tool(\u001b[38;5;124m'\u001b[39m\u001b[38;5;124mDog\u001b[39m\u001b[38;5;124m'\u001b[39m)\n",
      "Cell \u001b[1;32mIn[134], line 20\u001b[0m, in \u001b[0;36mSwissKnife.use_tool\u001b[1;34m(self, name)\u001b[0m\n\u001b[0;32m     19\u001b[0m \u001b[38;5;28;01mdef\u001b[39;00m \u001b[38;5;21muse_tool\u001b[39m(\u001b[38;5;28mself\u001b[39m, name):\n\u001b[1;32m---> 20\u001b[0m     \u001b[38;5;28mself\u001b[39m\u001b[38;5;241m.\u001b[39mtools[name]\u001b[38;5;241m.\u001b[39mwork()\n",
      "\u001b[1;31mAttributeError\u001b[0m: 'Dog' object has no attribute 'work'"
     ]
    }
   ],
   "source": [
    "sk.use_tool('Dog')"
   ]
  },
  {
   "cell_type": "code",
   "execution_count": null,
   "id": "2412cb64-6d47-4384-9eca-f7af3bb9b08c",
   "metadata": {},
   "outputs": [],
   "source": []
  }
 ],
 "metadata": {
  "kernelspec": {
   "display_name": "Python 3 (ipykernel)",
   "language": "python",
   "name": "python3"
  },
  "language_info": {
   "codemirror_mode": {
    "name": "ipython",
    "version": 3
   },
   "file_extension": ".py",
   "mimetype": "text/x-python",
   "name": "python",
   "nbconvert_exporter": "python",
   "pygments_lexer": "ipython3",
   "version": "3.11.7"
  }
 },
 "nbformat": 4,
 "nbformat_minor": 5
}
