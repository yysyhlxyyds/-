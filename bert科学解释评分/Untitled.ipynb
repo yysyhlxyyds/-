{
 "cells": [
  {
   "cell_type": "code",
   "execution_count": 9,
   "id": "9305cc08",
   "metadata": {},
   "outputs": [
    {
     "data": {
      "text/plain": [
       "Dataset({\n",
       "    features: ['label', 'text'],\n",
       "    num_rows: 1084\n",
       "})"
      ]
     },
     "execution_count": 9,
     "metadata": {},
     "output_type": "execute_result"
    }
   ],
   "source": [
    "from datasets import load_dataset\n",
    "dataset = load_dataset('csv', data_files='D:/研究数据/科学解释研究/pythonProject/bert情感分析/rawdata.csv', split='train')\n",
    "dataset"
   ]
  },
  {
   "cell_type": "code",
   "execution_count": 10,
   "id": "cc4618a2",
   "metadata": {
    "scrolled": true
   },
   "outputs": [
    {
     "data": {
      "text/plain": [
       "{'label': 3, 'text': '风可以加快水的蒸发，升温可以加快水的蒸发'}"
      ]
     },
     "execution_count": 10,
     "metadata": {},
     "output_type": "execute_result"
    }
   ],
   "source": [
    "dataset[0]"
   ]
  },
  {
   "cell_type": "code",
   "execution_count": 11,
   "id": "5fa064d7",
   "metadata": {},
   "outputs": [
    {
     "data": {
      "text/plain": [
       "{'label': [1, 1, 2, 4, 1, 1, 1, 2, 2, 1],\n",
       " 'text': ['因为吹风机吹热量把头发吹干',\n",
       "  '加快了头发表面的空气流动，使表面的水分干的快。',\n",
       "  '红汤上方有油封住，使汤底的热量难以散失，红汤升温快，先沸腾。',\n",
       "  '子弹与飞行员是以相同速度，相同方向运动的，两者是相对静止的状态所以飞行员能徒手抓住子弹。',\n",
       "  '使热水变冷，使冷水变热，分子做无规则运动，分子之间有间隙',\n",
       "  '水汽化',\n",
       "  '物理现象，水遇热蒸发',\n",
       "  '小红在吹头发时，吹风机吹出的空气可以把头发上的水蒸发',\n",
       "  '红汤一侧有一层油，油的比热容比水小，所以红汤一侧升温快，先沸腾。',\n",
       "  '分子之间不断运动且热传递将热水传入冷水中']}"
      ]
     },
     "execution_count": 11,
     "metadata": {},
     "output_type": "execute_result"
    }
   ],
   "source": [
    "dataset = dataset.shuffle(seed=42)\n",
    "dataset[:10]"
   ]
  },
  {
   "cell_type": "code",
   "execution_count": 13,
   "id": "9d4f1042",
   "metadata": {
    "scrolled": true
   },
   "outputs": [
    {
     "data": {
      "text/plain": [
       "DatasetDict({\n",
       "    train: Dataset({\n",
       "        features: ['label', 'text'],\n",
       "        num_rows: 813\n",
       "    })\n",
       "    test: Dataset({\n",
       "        features: ['label', 'text'],\n",
       "        num_rows: 271\n",
       "    })\n",
       "})"
      ]
     },
     "execution_count": 13,
     "metadata": {},
     "output_type": "execute_result"
    }
   ],
   "source": [
    "dataset.train_test_split(test_size=0.25)"
   ]
  },
  {
   "cell_type": "code",
   "execution_count": 1,
   "id": "b0ebf948",
   "metadata": {},
   "outputs": [
    {
     "data": {
      "text/html": [
       "<div>\n",
       "<style scoped>\n",
       "    .dataframe tbody tr th:only-of-type {\n",
       "        vertical-align: middle;\n",
       "    }\n",
       "\n",
       "    .dataframe tbody tr th {\n",
       "        vertical-align: top;\n",
       "    }\n",
       "\n",
       "    .dataframe thead th {\n",
       "        text-align: right;\n",
       "    }\n",
       "</style>\n",
       "<table border=\"1\" class=\"dataframe\">\n",
       "  <thead>\n",
       "    <tr style=\"text-align: right;\">\n",
       "      <th></th>\n",
       "      <th>label</th>\n",
       "      <th>text</th>\n",
       "    </tr>\n",
       "  </thead>\n",
       "  <tbody>\n",
       "    <tr>\n",
       "      <th>0</th>\n",
       "      <td>3</td>\n",
       "      <td>风可以加快水的蒸发，升温可以加快水的蒸发</td>\n",
       "    </tr>\n",
       "    <tr>\n",
       "      <th>1</th>\n",
       "      <td>3</td>\n",
       "      <td>头发上水蒸发吸热所以感觉冷，吹风机吹风加快空气流动，加快蒸发，风是暖的，水受热温度上升，蒸发...</td>\n",
       "    </tr>\n",
       "    <tr>\n",
       "      <th>2</th>\n",
       "      <td>1</td>\n",
       "      <td>头发里水分的汽化吸热，会感觉到冷，吹风机里温暖的空气，补充汽化所散失的热量，且吹风机下流动快。</td>\n",
       "    </tr>\n",
       "    <tr>\n",
       "      <th>3</th>\n",
       "      <td>3</td>\n",
       "      <td>水分温度升高，空气流动加快，加快了水的蒸发</td>\n",
       "    </tr>\n",
       "    <tr>\n",
       "      <th>4</th>\n",
       "      <td>1</td>\n",
       "      <td>空气吹风使周围空气流速大，且周围空气温度升高，所以头发吹干</td>\n",
       "    </tr>\n",
       "  </tbody>\n",
       "</table>\n",
       "</div>"
      ],
      "text/plain": [
       "   label                                               text\n",
       "0      3                               风可以加快水的蒸发，升温可以加快水的蒸发\n",
       "1      3  头发上水蒸发吸热所以感觉冷，吹风机吹风加快空气流动，加快蒸发，风是暖的，水受热温度上升，蒸发...\n",
       "2      1    头发里水分的汽化吸热，会感觉到冷，吹风机里温暖的空气，补充汽化所散失的热量，且吹风机下流动快。\n",
       "3      3                              水分温度升高，空气流动加快，加快了水的蒸发\n",
       "4      1                      空气吹风使周围空气流速大，且周围空气温度升高，所以头发吹干"
      ]
     },
     "execution_count": 1,
     "metadata": {},
     "output_type": "execute_result"
    }
   ],
   "source": [
    "import pandas as pd\n",
    "\n",
    "df = pd.read_csv('rawdata.csv')\n",
    "df.head()"
   ]
  },
  {
   "cell_type": "code",
   "execution_count": 6,
   "id": "2ba3bb56",
   "metadata": {
    "scrolled": true
   },
   "outputs": [
    {
     "name": "stdout",
     "output_type": "stream",
     "text": [
      "批次 1:\n",
      "文本样本: ('热水中的热分子与冷水中的冷分子结合后发生热传递。', '能量总是会从能量高的地方流动到能量低的地方，热量高的热水与热量低的冷水混合，使热量从热水到冷水中，从而形成温水。', '头发上面有小水珠，遇到热空气，蒸发成水蒸气。', '热水的温度高于冷水，热量会被传递给冷水，使其温度升高，最终达到一个平衡的状态。', '分子在做永不停息的无规则运动', '油层可以减少热量散失且油沸点高于水。', '子弹与空气处于相对静止的状态所以能抓住。', '飞机飞行速度和子弹飞行速度一样。', '溶解', '水分子扩散。', '因为红汤的一侧有油，油的比热容要小于水的比热容，所以相同时间内，吸收相同的热量，油升高的温度要大于水的温度，且油的沸点比水小，所以总是红一侧先沸腾。', '当子弹与飞行员速度相同时，子弹与飞行员相对静止，所以飞行员可以抓住子弹。', '红汤中有油，油与水的沸点不同。', '提高温度，加大空气流速使蒸发变快，水分汽化成了水蒸气。', '热水和冷水混合，热水放出热量，直到它们温度相同', '因为红汤的沸点低，到达沸点所以吸收的热量少于清汤，所以红汤先沸腾。', '子弹相对于飞机静止，飞机的速度与子弹相等。', '子弹和飞行员的速度大小差不多，所以相对静止，所以能抓住。', '油的沸点低。沸腾现象', 'v机=v弹', '以飞机为参照物子弹是静止不要，这是因为物体的相对静止。', '油的沸点低', '温度由温度高的传向低的，热水遇冷水，内能减少，温度降低，冷水遇热水，内能增多，温度升高', '冰糖在水中溶解了', '这是物体发生了热传递。热通常由高温物体传向低温物体，所以当热水与冷水混合后，热水与冷水之间发生了热传递，变成了温水。', '两种水温不同，放在一起自然会上升或下降，冷水把热水的温度降低，自然而然冷水的温度也上升了些。两种水温都降低了和升高了对方的温度。', '水蒸发吸热，温暖的空气为其蒸发提供了更多热量，空气流动加大了空气与水的接触。', '热传递使热水中的热量向冷水中传递使水升温', '发生了热传递，热水的内能减少', '飞机的速度与子弹差不多，两者相对静止', '在高空中，空气流速会变得慢一些，使子弹出现“小飞虫”的假想。', '吹风机吹出的温暖空气使头发上的水发生汽化。刚洗完头感到冷是因为水汽化吸热。')\n",
      "标签样本: tensor([3, 2, 2, 3, 1, 1, 2, 1, 1, 0, 2, 3, 0, 2, 2, 1, 1, 3, 0, 1, 4, 0, 2, 0,\n",
      "        4, 1, 1, 2, 2, 1, 0, 2])\n"
     ]
    }
   ],
   "source": [
    "import pandas as pd\n",
    "import torch\n",
    "from torch.utils.data import Dataset, DataLoader\n",
    "\n",
    "# 步骤1: 读取CSV文件\n",
    "def load_data(csv_file):\n",
    "    return pd.read_csv(csv_file)\n",
    "\n",
    "# 步骤2: 创建自定义Dataset\n",
    "class TextDataset(Dataset):\n",
    "    def __init__(self, dataframe, text_col, label_col):\n",
    "        self.dataframe = dataframe\n",
    "        self.text_col = text_col\n",
    "        self.label_col = label_col\n",
    "\n",
    "    def __len__(self):\n",
    "        return len(self.dataframe)\n",
    "\n",
    "    def __getitem__(self, idx):\n",
    "        text = self.dataframe.iloc[idx, self.dataframe.columns.get_loc(self.text_col)]\n",
    "        label = self.dataframe.iloc[idx, self.dataframe.columns.get_loc(self.label_col)]\n",
    "        return text, label\n",
    "\n",
    "# 步骤3: 创建DataLoader\n",
    "def get_dataloader(dataframe, text_col, label_col, batch_size=32):\n",
    "    dataset = TextDataset(dataframe, text_col, label_col)\n",
    "    return DataLoader(dataset, batch_size=batch_size, shuffle=True)\n",
    "\n",
    "# 使用示例\n",
    "csv_file = 'rawdata.csv'  # 替换为你的CSV文件路径\n",
    "text_col = 'text'  # 替换为你的文本列名\n",
    "label_col = 'label'  # 替换为你的标签列名\n",
    "\n",
    "# 读取数据\n",
    "dataframe = load_data(csv_file)\n",
    "\n",
    "# 获取数据加载器\n",
    "dataloader = get_dataloader(dataframe, text_col, label_col, batch_size=32)\n",
    "\n",
    "for i, (texts, labels) in enumerate(dataloader):\n",
    "    print(f\"批次 {i+1}:\")\n",
    "    print(\"文本样本:\", texts)\n",
    "    print(\"标签样本:\", labels)\n",
    "    if i == 0:  # 只打印第一个批次的样本\n",
    "        break"
   ]
  },
  {
   "cell_type": "code",
   "execution_count": 2,
   "id": "292213a5",
   "metadata": {},
   "outputs": [],
   "source": [
    "df['char_count'] = df['text'].apply(len)"
   ]
  },
  {
   "cell_type": "code",
   "execution_count": 3,
   "id": "f61728c9-d617-403b-8647-ba921183adfd",
   "metadata": {},
   "outputs": [
    {
     "data": {
      "text/plain": [
       "count    1084.000000\n",
       "mean       27.145756\n",
       "std        18.506144\n",
       "min         2.000000\n",
       "25%        12.000000\n",
       "50%        24.000000\n",
       "75%        38.000000\n",
       "max       177.000000\n",
       "Name: char_count, dtype: float64"
      ]
     },
     "execution_count": 3,
     "metadata": {},
     "output_type": "execute_result"
    }
   ],
   "source": [
    "df['char_count'].describe()"
   ]
  },
  {
   "cell_type": "code",
   "execution_count": 4,
   "id": "0c0decbf-0fcb-468c-a957-c837add86210",
   "metadata": {},
   "outputs": [],
   "source": [
    "import matplotlib.pyplot as plt"
   ]
  },
  {
   "cell_type": "code",
   "execution_count": 5,
   "id": "778bbed5-47da-4574-be3b-2005538faf99",
   "metadata": {},
   "outputs": [
    {
     "data": {
      "text/plain": [
       "{'whiskers': [<matplotlib.lines.Line2D at 0x1ce88da4be0>,\n",
       "  <matplotlib.lines.Line2D at 0x1ce88da4e80>],\n",
       " 'caps': [<matplotlib.lines.Line2D at 0x1ce88dc4160>,\n",
       "  <matplotlib.lines.Line2D at 0x1ce88dc4400>],\n",
       " 'boxes': [<matplotlib.lines.Line2D at 0x1ce88d94820>],\n",
       " 'medians': [<matplotlib.lines.Line2D at 0x1ce88dc46a0>],\n",
       " 'fliers': [<matplotlib.lines.Line2D at 0x1ce88dc4940>],\n",
       " 'means': []}"
      ]
     },
     "execution_count": 5,
     "metadata": {},
     "output_type": "execute_result"
    },
    {
     "data": {
      "image/png": "[encoded data removed]",
      "text/plain": [
       "<Figure size 640x480 with 1 Axes>"
      ]
     },
     "metadata": {},
     "output_type": "display_data"
    }
   ],
   "source": [
    "plt.boxplot(df['char_count'])"
   ]
  },
  {
   "cell_type": "code",
   "execution_count": 6,
   "id": "0ac8c6e4-e90d-417f-974d-e36dcc3d1e9a",
   "metadata": {},
   "outputs": [
    {
     "data": {
      "text/plain": [
       "(array([434., 357., 213.,  55.,  17.,   6.,   1.,   0.,   0.,   1.]),\n",
       " array([  2. ,  19.5,  37. ,  54.5,  72. ,  89.5, 107. , 124.5, 142. ,\n",
       "        159.5, 177. ]),\n",
       " <BarContainer object of 10 artists>)"
      ]
     },
     "execution_count": 6,
     "metadata": {},
     "output_type": "execute_result"
    },
    {
     "data": {
      "image/png": "[encoded data removed]",
      "text/plain": [
       "<Figure size 640x480 with 1 Axes>"
      ]
     },
     "metadata": {},
     "output_type": "display_data"
    }
   ],
   "source": [
    "plt.hist(df['char_count'])"
   ]
  },
  {
   "cell_type": "code",
   "execution_count": 8,
   "id": "810a7e73-22f9-4a09-b526-f89d6059653d",
   "metadata": {},
   "outputs": [
    {
     "ename": "TypeError",
     "evalue": "bar() missing 1 required positional argument: 'height'",
     "output_type": "error",
     "traceback": [
      "\u001b[1;31m---------------------------------------------------------------------------\u001b[0m",
      "\u001b[1;31mTypeError\u001b[0m                                 Traceback (most recent call last)",
      "Cell \u001b[1;32mIn[8], line 1\u001b[0m\n\u001b[1;32m----> 1\u001b[0m \u001b[43mplt\u001b[49m\u001b[38;5;241;43m.\u001b[39;49m\u001b[43mbar\u001b[49m\u001b[43m(\u001b[49m\u001b[43mdf\u001b[49m\u001b[43m[\u001b[49m\u001b[38;5;124;43m'\u001b[39;49m\u001b[38;5;124;43mlabel\u001b[39;49m\u001b[38;5;124;43m'\u001b[39;49m\u001b[43m]\u001b[49m\u001b[43m)\u001b[49m\n",
      "\u001b[1;31mTypeError\u001b[0m: bar() missing 1 required positional argument: 'height'"
     ]
    }
   ],
   "source": [
    "plt.bar(df['label'], height)"
   ]
  },
  {
   "cell_type": "code",
   "execution_count": 10,
   "id": "f414d6e2-1640-40a9-86ff-fbcef784ef2d",
   "metadata": {},
   "outputs": [
    {
     "data": {
      "text/plain": [
       "label\n",
       "1    357\n",
       "2    313\n",
       "0    188\n",
       "3    163\n",
       "4     63\n",
       "Name: count, dtype: int64"
      ]
     },
     "execution_count": 10,
     "metadata": {},
     "output_type": "execute_result"
    }
   ],
   "source": [
    "df['label'].value_counts()"
   ]
  },
  {
   "cell_type": "code",
   "execution_count": null,
   "id": "006a28f7-51ec-4150-b6a3-36d3b437092b",
   "metadata": {},
   "outputs": [],
   "source": []
  }
 ],
 "metadata": {
  "kernelspec": {
   "display_name": "Python 3 (ipykernel)",
   "language": "python",
   "name": "python3"
  },
  "language_info": {
   "codemirror_mode": {
    "name": "ipython",
    "version": 3
   },
   "file_extension": ".py",
   "mimetype": "text/x-python",
   "name": "python",
   "nbconvert_exporter": "python",
   "pygments_lexer": "ipython3",
   "version": "3.9.18"
  }
 },
 "nbformat": 4,
 "nbformat_minor": 5
}
